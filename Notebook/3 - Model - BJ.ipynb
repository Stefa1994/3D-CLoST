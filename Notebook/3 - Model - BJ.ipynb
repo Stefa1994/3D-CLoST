{
 "cells": [
  {
   "cell_type": "markdown",
   "metadata": {},
   "source": [
    "# **Colaboratory**"
   ]
  },
  {
   "cell_type": "code",
   "execution_count": null,
   "metadata": {},
   "outputs": [],
   "source": [
    "#from google.colab import drive\n",
    "#drive.mount('/content/drive/', force_remount=True)"
   ]
  },
  {
   "cell_type": "code",
   "execution_count": null,
   "metadata": {},
   "outputs": [],
   "source": [
    "#import os\n",
    "#os.chdir('./drive/My Drive/3D-CLoST/Notebook')"
   ]
  },
  {
   "cell_type": "markdown",
   "metadata": {
    "colab_type": "text",
    "id": "-R0DjjVuc3wb"
   },
   "source": [
    "# **Import modules**"
   ]
  },
  {
   "cell_type": "code",
   "execution_count": null,
   "metadata": {
    "colab": {},
    "colab_type": "code",
    "id": "RRvkjpsBf6tT"
   },
   "outputs": [],
   "source": [
    "from CLOST.imports import *\n",
    "from CLOST.model import *\n",
    "from CLOST.utils import *"
   ]
  },
  {
   "cell_type": "markdown",
   "metadata": {
    "colab_type": "text",
    "id": "37WqBpNklvuF"
   },
   "source": [
    "# **Import data**\n",
    "\n",
    "\n"
   ]
  },
  {
   "cell_type": "code",
   "execution_count": null,
   "metadata": {
    "colab": {},
    "colab_type": "code",
    "id": "2Dzp9BgAh2a4"
   },
   "outputs": [],
   "source": [
    "city = 'BJ'"
   ]
  },
  {
   "cell_type": "code",
   "execution_count": null,
   "metadata": {
    "colab": {},
    "colab_type": "code",
    "id": "Eix42fgLtnko"
   },
   "outputs": [],
   "source": [
    "mask = np.load('../data/' + city + '/mask.npy')\n",
    "external_info =  pd.read_csv('../data/' + city + '/weather.csv' )\n",
    "external_info.loc[external_info['precipIntensity'] > 0, 'rain'] = 1\n",
    "external_info['rain'] = external_info['rain'].fillna(0)\n",
    "external_info.drop(['icon', 'humidity', 'cloudCover', 'uvIndex', 'temperature', 'windSpeed', 'precipIntensity'], inplace=True, axis = 1)\n",
    "ext = external_info.to_numpy()"
   ]
  },
  {
   "cell_type": "code",
   "execution_count": null,
   "metadata": {
    "colab": {},
    "colab_type": "code",
    "id": "36kXrVISklEI"
   },
   "outputs": [],
   "source": [
    "X = np.load('../data/' + city + '/volumes/X.npy')\n",
    "X = X.reshape((len(X), X.shape[1] * X.shape[2], 32, 32 , 1))\n",
    "\n",
    "y = np.load('../data/' + city + '/volumes/y.npy')\n",
    "y = y.reshape((len(y), 2, 32, 32))"
   ]
  },
  {
   "cell_type": "markdown",
   "metadata": {
    "colab_type": "text",
    "id": "hpyyNHXLFLpu"
   },
   "source": [
    "\n",
    "# **Model**"
   ]
  },
  {
   "cell_type": "code",
   "execution_count": null,
   "metadata": {
    "colab": {},
    "colab_type": "code",
    "id": "AKngaypjqimt"
   },
   "outputs": [],
   "source": [
    "rmse, predictions, model = CLoST3D('BJ', X,  y,  external_data = ext, test_days = 28, \n",
    "                                   lr = 0.001, conv_filt = 64,kernel_sz = (3,3,3),\n",
    "                                   normalize = True, epochs = 150,lstm = 500,\n",
    "                                   lstm_number = 2, add_external_info = True)"
   ]
  }
 ],
 "metadata": {
  "accelerator": "GPU",
  "colab": {
   "collapsed_sections": [],
   "machine_shape": "hm",
   "name": "3 - Model - BJ.ipynb",
   "provenance": []
  },
  "kernelspec": {
   "display_name": "Python 3",
   "language": "python",
   "name": "python3"
  },
  "language_info": {
   "codemirror_mode": {
    "name": "ipython",
    "version": 3
   },
   "file_extension": ".py",
   "mimetype": "text/x-python",
   "name": "python",
   "nbconvert_exporter": "python",
   "pygments_lexer": "ipython3",
   "version": "3.6.9"
  }
 },
 "nbformat": 4,
 "nbformat_minor": 1
}
