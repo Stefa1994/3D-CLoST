{
 "cells": [
  {
   "cell_type": "markdown",
   "metadata": {},
   "source": [
    "# **Colaboratory**"
   ]
  },
  {
   "cell_type": "code",
   "execution_count": null,
   "metadata": {},
   "outputs": [],
   "source": [
    "#from google.colab import drive\n",
    "#drive.mount('/content/drive/', force_remount=True)"
   ]
  },
  {
   "cell_type": "code",
   "execution_count": null,
   "metadata": {},
   "outputs": [],
   "source": [
    "#import os\n",
    "#os.chdir('./drive/My Drive/3D-CLoST/Notebook')"
   ]
  },
  {
   "cell_type": "markdown",
   "metadata": {
    "colab_type": "text",
    "id": "AM8QSEPZc-cH"
   },
   "source": [
    "# **Import modules**"
   ]
  },
  {
   "cell_type": "code",
   "execution_count": null,
   "metadata": {
    "colab": {},
    "colab_type": "code",
    "id": "RNBI-DL76fdb"
   },
   "outputs": [],
   "source": [
    "from CLOST.imports import pd, np, dt, timedelta\n",
    "from CLOST.utils import remove_incomplete_days\n",
    "from CLOST.volumes import *"
   ]
  },
  {
   "cell_type": "markdown",
   "metadata": {},
   "source": [
    "# **Beijing Volume and Mask Creation**"
   ]
  },
  {
   "cell_type": "markdown",
   "metadata": {
    "colab_type": "text",
    "id": "-j6zzW9DdDUN"
   },
   "source": [
    "### **Import data**"
   ]
  },
  {
   "cell_type": "code",
   "execution_count": null,
   "metadata": {
    "colab": {},
    "colab_type": "code",
    "id": "q8KtGDQifeKI"
   },
   "outputs": [],
   "source": [
    "city = 'BJ'\n",
    "step = 2"
   ]
  },
  {
   "cell_type": "code",
   "execution_count": null,
   "metadata": {
    "colab": {},
    "colab_type": "code",
    "id": "iOCDFBqKfa8I"
   },
   "outputs": [],
   "source": [
    "data = np.load('../data/' + city + '/data.npy')\n",
    "timestamps = np.load('../data/' + city + '/timestamps.npy').astype(str)"
   ]
  },
  {
   "cell_type": "code",
   "execution_count": null,
   "metadata": {
    "colab": {
     "base_uri": "https://localhost:8080/",
     "height": 54
    },
    "colab_type": "code",
    "executionInfo": {
     "elapsed": 1328,
     "status": "ok",
     "timestamp": 1596897631152,
     "user": {
      "displayName": "Giorgio Pilotti",
      "photoUrl": "",
      "userId": "14543625938899552918"
     },
     "user_tz": -120
    },
    "id": "AGdCgq7vIuzq",
    "outputId": "6954e389-f73c-446a-d324-dbc632d4a718"
   },
   "outputs": [],
   "source": [
    "data, timestamps = remove_incomplete_days(data, timestamps)"
   ]
  },
  {
   "cell_type": "code",
   "execution_count": null,
   "metadata": {
    "colab": {},
    "colab_type": "code",
    "id": "znBVA-yRtBjq"
   },
   "outputs": [],
   "source": [
    "hour_dict = {'01': '0000',\n",
    "             '02': '0030',\n",
    "             '03': '0100',\n",
    "             '04': '0130',\n",
    "             '05': '0200',\n",
    "             '06': '0230',\n",
    "             '07': '0300',\n",
    "             '08': '0330',\n",
    "             '09': '0400',\n",
    "             '10': '0430',\n",
    "             '11': '0500',\n",
    "             '12': '0530',\n",
    "             '13': '0600',\n",
    "             '14': '0630',\n",
    "             '15': '0700',\n",
    "             '16': '0730',\n",
    "             '17': '0800',\n",
    "             '18': '0830',\n",
    "             '19': '0900',\n",
    "             '20': '0930',\n",
    "             '21': '1000',\n",
    "             '22': '1030',\n",
    "             '23': '1100',\n",
    "             '24': '1130',\n",
    "             '25': '1200',\n",
    "             '26': '1230',\n",
    "             '27': '1300',\n",
    "             '28': '1330',\n",
    "             '29': '1400',\n",
    "             '30': '1430',\n",
    "             '31': '1500',\n",
    "             '32': '1530',\n",
    "             '33': '1600',\n",
    "             '34': '1630',\n",
    "             '35': '1700',\n",
    "             '36': '1730',\n",
    "             '37': '1800',\n",
    "             '38': '1830',\n",
    "             '39': '1900',\n",
    "             '40': '1930',\n",
    "             '41': '2000',\n",
    "             '42': '2030',\n",
    "             '43': '2100',\n",
    "             '44': '2130',\n",
    "             '45': '2200',\n",
    "             '46': '2230',\n",
    "             '47': '2300',\n",
    "             '48': '2330'}\n",
    "\n",
    "timestamps = np.array([date[:-2] + hour_dict[date[-2:]] for date in timestamps])"
   ]
  },
  {
   "cell_type": "markdown",
   "metadata": {
    "colab_type": "text",
    "id": "ZXVSC24pdYiq"
   },
   "source": [
    "### **Volumes creation**"
   ]
  },
  {
   "cell_type": "code",
   "execution_count": null,
   "metadata": {
    "colab": {},
    "colab_type": "code",
    "id": "WEpjovm3bur6"
   },
   "outputs": [],
   "source": [
    "city_dict = create_dict(data, timestamps)"
   ]
  },
  {
   "cell_type": "code",
   "execution_count": null,
   "metadata": {
    "colab": {},
    "colab_type": "code",
    "id": "_ok6-qeAwCDw"
   },
   "outputs": [],
   "source": [
    "timestamps = pd.Series(list(city_dict.keys())).apply(lambda x: x.split('_')[0]).unique()"
   ]
  },
  {
   "cell_type": "code",
   "execution_count": null,
   "metadata": {
    "colab": {},
    "colab_type": "code",
    "id": "X4W0ShfqrpOM"
   },
   "outputs": [],
   "source": [
    "X_date, y_date = set_volume_date(city, timestamps, step = step, add_day_before=True, add_half=True)"
   ]
  },
  {
   "cell_type": "code",
   "execution_count": null,
   "metadata": {
    "colab": {},
    "colab_type": "code",
    "id": "uwp5wRn6sdW-"
   },
   "outputs": [],
   "source": [
    "X = [[[city_dict[date_h + '_' + typ] for typ in ('Inflow', 'Outflow')] for date_h in list_date_h] for list_date_h in X_date] \n",
    "y = [[city_dict[d_h + '_' + typ] for typ in ('Inflow', 'Outflow')] for d_h in y_date]\n",
    "\n",
    "np.save('../data/' + city + '/volumes/X.npy', X)\n",
    "np.save('../data/' + city + '/volumes/y.npy', y)"
   ]
  },
  {
   "cell_type": "markdown",
   "metadata": {
    "colab_type": "text",
    "id": "gD0TtU_HgxmD"
   },
   "source": [
    "### **Mask creation** "
   ]
  },
  {
   "cell_type": "code",
   "execution_count": null,
   "metadata": {
    "colab": {},
    "colab_type": "code",
    "executionInfo": {
     "elapsed": 1823,
     "status": "ok",
     "timestamp": 1596898038208,
     "user": {
      "displayName": "Giorgio Pilotti",
      "photoUrl": "",
      "userId": "14543625938899552918"
     },
     "user_tz": -120
    },
    "id": "9oAxijbZAfWJ"
   },
   "outputs": [],
   "source": [
    "mask = create_mask(city, city_dict)\n",
    "np.save('../data/' + city + '/mask.npy', mask)"
   ]
  },
  {
   "cell_type": "code",
   "execution_count": null,
   "metadata": {},
   "outputs": [],
   "source": []
  },
  {
   "cell_type": "code",
   "execution_count": null,
   "metadata": {},
   "outputs": [],
   "source": []
  },
  {
   "cell_type": "code",
   "execution_count": null,
   "metadata": {},
   "outputs": [],
   "source": []
  }
 ],
 "metadata": {
  "colab": {
   "collapsed_sections": [],
   "machine_shape": "hm",
   "name": "2 - Create Volumes - BJ.ipynb",
   "provenance": []
  },
  "kernelspec": {
   "display_name": "Python 3",
   "language": "python",
   "name": "python3"
  },
  "language_info": {
   "codemirror_mode": {
    "name": "ipython",
    "version": 3
   },
   "file_extension": ".py",
   "mimetype": "text/x-python",
   "name": "python",
   "nbconvert_exporter": "python",
   "pygments_lexer": "ipython3",
   "version": "3.6.9"
  }
 },
 "nbformat": 4,
 "nbformat_minor": 1
}
