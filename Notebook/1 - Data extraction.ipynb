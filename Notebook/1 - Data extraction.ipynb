{
 "cells": [
  {
   "cell_type": "markdown",
   "metadata": {},
   "source": [
    "# **Colaboratory**"
   ]
  },
  {
   "cell_type": "code",
   "execution_count": null,
   "metadata": {},
   "outputs": [],
   "source": [
    "#from google.colab import drive\n",
    "#drive.mount('/content/drive/', force_remount=True)"
   ]
  },
  {
   "cell_type": "code",
   "execution_count": null,
   "metadata": {},
   "outputs": [],
   "source": [
    "#import os\n",
    "#os.chdir('./drive/My Drive/3D-CLoST/Notebook')"
   ]
  },
  {
   "cell_type": "markdown",
   "metadata": {},
   "source": [
    "# **Import modules**"
   ]
  },
  {
   "cell_type": "code",
   "execution_count": null,
   "metadata": {
    "colab": {},
    "colab_type": "code",
    "executionInfo": {
     "elapsed": 4438,
     "status": "ok",
     "timestamp": 1596894069438,
     "user": {
      "displayName": "Giorgio Pilotti",
      "photoUrl": "",
      "userId": "14543625938899552918"
     },
     "user_tz": -120
    },
    "id": "S_b8UJ9VJ9L8"
   },
   "outputs": [],
   "source": [
    "from CLOST.utils import extract_data"
   ]
  },
  {
   "cell_type": "markdown",
   "metadata": {},
   "source": [
    "# **Data extraction**"
   ]
  },
  {
   "cell_type": "code",
   "execution_count": null,
   "metadata": {
    "colab": {},
    "colab_type": "code",
    "executionInfo": {
     "elapsed": 616,
     "status": "ok",
     "timestamp": 1596894070756,
     "user": {
      "displayName": "Giorgio Pilotti",
      "photoUrl": "",
      "userId": "14543625938899552918"
     },
     "user_tz": -120
    },
    "id": "caSM7ffdSF6C"
   },
   "outputs": [],
   "source": [
    "cities = ['NY','BJ']"
   ]
  },
  {
   "cell_type": "code",
   "execution_count": null,
   "metadata": {
    "colab": {
     "base_uri": "https://localhost:8080/",
     "height": 85
    },
    "colab_type": "code",
    "executionInfo": {
     "elapsed": 12669,
     "status": "ok",
     "timestamp": 1596894084321,
     "user": {
      "displayName": "Giorgio Pilotti",
      "photoUrl": "",
      "userId": "14543625938899552918"
     },
     "user_tz": -120
    },
    "id": "BtL3wuF_SY-z",
    "outputId": "c2900fca-f044-419e-81c1-438636e2af59"
   },
   "outputs": [],
   "source": [
    "for city in cities:\n",
    "    extract_data(city)"
   ]
  }
 ],
 "metadata": {
  "colab": {
   "authorship_tag": "ABX9TyMrFN1n+mt8VVHbdQrvisgz",
   "collapsed_sections": [],
   "name": "1 - Data extraction.ipynb",
   "provenance": []
  },
  "kernelspec": {
   "display_name": "Python 3",
   "language": "python",
   "name": "python3"
  },
  "language_info": {
   "codemirror_mode": {
    "name": "ipython",
    "version": 3
   },
   "file_extension": ".py",
   "mimetype": "text/x-python",
   "name": "python",
   "nbconvert_exporter": "python",
   "pygments_lexer": "ipython3",
   "version": "3.6.9"
  }
 },
 "nbformat": 4,
 "nbformat_minor": 1
}
