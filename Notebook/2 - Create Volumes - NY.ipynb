{
 "cells": [
  {
   "cell_type": "markdown",
   "metadata": {},
   "source": [
    "# **Colaboratory**"
   ]
  },
  {
   "cell_type": "code",
   "execution_count": null,
   "metadata": {},
   "outputs": [],
   "source": [
    "#from google.colab import drive\n",
    "#drive.mount('/content/drive/', force_remount=True)"
   ]
  },
  {
   "cell_type": "code",
   "execution_count": null,
   "metadata": {},
   "outputs": [],
   "source": [
    "#import os\n",
    "#os.chdir('./drive/My Drive/3D-CLoST/Notebook')"
   ]
  },
  {
   "cell_type": "markdown",
   "metadata": {
    "colab_type": "text",
    "id": "AM8QSEPZc-cH"
   },
   "source": [
    "# **Import modules**"
   ]
  },
  {
   "cell_type": "code",
   "execution_count": null,
   "metadata": {
    "colab": {},
    "colab_type": "code",
    "executionInfo": {
     "elapsed": 5671,
     "status": "ok",
     "timestamp": 1596896962394,
     "user": {
      "displayName": "Giorgio Pilotti",
      "photoUrl": "",
      "userId": "14543625938899552918"
     },
     "user_tz": -120
    },
    "id": "RNBI-DL76fdb"
   },
   "outputs": [],
   "source": [
    "from CLOST.imports import pd, np, dt, timedelta\n",
    "from CLOST.volumes import *"
   ]
  },
  {
   "cell_type": "markdown",
   "metadata": {
    "colab_type": "text",
    "id": "-j6zzW9DdDUN"
   },
   "source": [
    "# **Import data**"
   ]
  },
  {
   "cell_type": "code",
   "execution_count": null,
   "metadata": {
    "colab": {},
    "colab_type": "code",
    "executionInfo": {
     "elapsed": 486,
     "status": "ok",
     "timestamp": 1596896954258,
     "user": {
      "displayName": "Giorgio Pilotti",
      "photoUrl": "",
      "userId": "14543625938899552918"
     },
     "user_tz": -120
    },
    "id": "blGz6MP4zQ34"
   },
   "outputs": [],
   "source": [
    "city = 'NY'\n",
    "step = 2"
   ]
  },
  {
   "cell_type": "code",
   "execution_count": null,
   "metadata": {
    "colab": {},
    "colab_type": "code",
    "executionInfo": {
     "elapsed": 1729,
     "status": "ok",
     "timestamp": 1596896966066,
     "user": {
      "displayName": "Giorgio Pilotti",
      "photoUrl": "",
      "userId": "14543625938899552918"
     },
     "user_tz": -120
    },
    "id": "iOCDFBqKfa8I"
   },
   "outputs": [],
   "source": [
    "data = np.load('../data/' + city + '/data.npy')\n",
    "timestamps = np.load('../data/' + city + '/timestamps.npy').astype(str)"
   ]
  },
  {
   "cell_type": "markdown",
   "metadata": {
    "colab_type": "text",
    "id": "ZXVSC24pdYiq"
   },
   "source": [
    "# **Volumes creation**"
   ]
  },
  {
   "cell_type": "code",
   "execution_count": null,
   "metadata": {
    "colab": {},
    "colab_type": "code",
    "executionInfo": {
     "elapsed": 536,
     "status": "ok",
     "timestamp": 1596896968774,
     "user": {
      "displayName": "Giorgio Pilotti",
      "photoUrl": "",
      "userId": "14543625938899552918"
     },
     "user_tz": -120
    },
    "id": "WEpjovm3bur6"
   },
   "outputs": [],
   "source": [
    "city_dict = create_dict(data, timestamps)"
   ]
  },
  {
   "cell_type": "code",
   "execution_count": null,
   "metadata": {
    "colab": {},
    "colab_type": "code",
    "executionInfo": {
     "elapsed": 2417,
     "status": "ok",
     "timestamp": 1596896973199,
     "user": {
      "displayName": "Giorgio Pilotti",
      "photoUrl": "",
      "userId": "14543625938899552918"
     },
     "user_tz": -120
    },
    "id": "hO3rGkATnqot"
   },
   "outputs": [],
   "source": [
    "X_date, y_date = set_volume_date(city, timestamps, step = step, add_week_before=True)"
   ]
  },
  {
   "cell_type": "code",
   "execution_count": null,
   "metadata": {
    "colab": {},
    "colab_type": "code",
    "executionInfo": {
     "elapsed": 2801,
     "status": "ok",
     "timestamp": 1596896978266,
     "user": {
      "displayName": "Giorgio Pilotti",
      "photoUrl": "",
      "userId": "14543625938899552918"
     },
     "user_tz": -120
    },
    "id": "bzXWRtseo-34"
   },
   "outputs": [],
   "source": [
    "X = [[[city_dict[date_h + '_' + typ] for typ in ('Inflow', 'Outflow')] for date_h in list_date_h] for list_date_h in X_date] \n",
    "y = [[city_dict[d_h + '_' + typ] for typ in ('Inflow', 'Outflow')] for d_h in y_date]\n",
    "\n",
    "np.save('../data/' + city + '/volumes/X.npy', X)\n",
    "np.save('../data/' + city + '/volumes/y.npy', y)"
   ]
  },
  {
   "cell_type": "markdown",
   "metadata": {
    "colab_type": "text",
    "id": "gD0TtU_HgxmD"
   },
   "source": [
    "# **Mask creation**"
   ]
  },
  {
   "cell_type": "code",
   "execution_count": null,
   "metadata": {
    "colab": {},
    "colab_type": "code",
    "executionInfo": {
     "elapsed": 955,
     "status": "ok",
     "timestamp": 1596896981716,
     "user": {
      "displayName": "Giorgio Pilotti",
      "photoUrl": "",
      "userId": "14543625938899552918"
     },
     "user_tz": -120
    },
    "id": "9oAxijbZAfWJ"
   },
   "outputs": [],
   "source": [
    "mask = create_mask(city, city_dict)\n",
    "np.save('../data/' + city + '/mask.npy', mask)"
   ]
  }
 ],
 "metadata": {
  "colab": {
   "collapsed_sections": [],
   "machine_shape": "hm",
   "name": "2a - Create Volumes - NY.ipynb",
   "provenance": []
  },
  "kernelspec": {
   "display_name": "Python 3",
   "language": "python",
   "name": "python3"
  },
  "language_info": {
   "codemirror_mode": {
    "name": "ipython",
    "version": 3
   },
   "file_extension": ".py",
   "mimetype": "text/x-python",
   "name": "python",
   "nbconvert_exporter": "python",
   "pygments_lexer": "ipython3",
   "version": "3.6.9"
  }
 },
 "nbformat": 4,
 "nbformat_minor": 1
}
