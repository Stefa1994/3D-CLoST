{
 "cells": [
  {
   "cell_type": "markdown",
   "metadata": {},
   "source": [
    "# **Colaboratory**"
   ]
  },
  {
   "cell_type": "code",
   "execution_count": null,
   "metadata": {},
   "outputs": [],
   "source": [
    "#from google.colab import drive\n",
    "#drive.mount('/content/drive/', force_remount=True)"
   ]
  },
  {
   "cell_type": "code",
   "execution_count": null,
   "metadata": {},
   "outputs": [],
   "source": [
    "#import os\n",
    "#os.chdir('./drive/My Drive/3D-CLoST/Notebook')"
   ]
  },
  {
   "cell_type": "markdown",
   "metadata": {
    "colab_type": "text",
    "id": "-R0DjjVuc3wb"
   },
   "source": [
    "# **Import librerie**"
   ]
  },
  {
   "cell_type": "code",
   "execution_count": null,
   "metadata": {
    "colab": {},
    "colab_type": "code",
    "executionInfo": {
     "elapsed": 5570,
     "status": "ok",
     "timestamp": 1597671589207,
     "user": {
      "displayName": "Giorgio Pilotti",
      "photoUrl": "",
      "userId": "14543625938899552918"
     },
     "user_tz": -120
    },
    "id": "RRvkjpsBf6tT"
   },
   "outputs": [],
   "source": [
    "from CLOST.imports import *\n",
    "from CLOST.model import *\n",
    "from CLOST.utils import *"
   ]
  },
  {
   "cell_type": "markdown",
   "metadata": {
    "colab_type": "text",
    "id": "37WqBpNklvuF"
   },
   "source": [
    "# **Import data**"
   ]
  },
  {
   "cell_type": "code",
   "execution_count": null,
   "metadata": {
    "colab": {},
    "colab_type": "code",
    "executionInfo": {
     "elapsed": 585,
     "status": "ok",
     "timestamp": 1597671582948,
     "user": {
      "displayName": "Giorgio Pilotti",
      "photoUrl": "",
      "userId": "14543625938899552918"
     },
     "user_tz": -120
    },
    "id": "p4qz-fFf1G1e"
   },
   "outputs": [],
   "source": [
    "city = 'NY'"
   ]
  },
  {
   "cell_type": "code",
   "execution_count": null,
   "metadata": {
    "colab": {},
    "colab_type": "code",
    "executionInfo": {
     "elapsed": 1883,
     "status": "ok",
     "timestamp": 1597671596188,
     "user": {
      "displayName": "Giorgio Pilotti",
      "photoUrl": "",
      "userId": "14543625938899552918"
     },
     "user_tz": -120
    },
    "id": "Eix42fgLtnko"
   },
   "outputs": [],
   "source": [
    "mask = np.load('../data/' + city + '/mask.npy')\n",
    "external_info =  pd.read_csv('../data/' + city + '/weather.csv' )\n",
    "external_info.loc[external_info['precipIntensity'] > 0, 'rain'] = 1\n",
    "external_info['rain'] = external_info['rain'].fillna(0)\n",
    "external_info.drop(['icon', 'humidity', 'cloudCover', 'uvIndex', 'temperature', 'windSpeed', 'precipIntensity'], inplace=True, axis = 1)\n",
    "ext = external_info.to_numpy()"
   ]
  },
  {
   "cell_type": "code",
   "execution_count": null,
   "metadata": {
    "colab": {},
    "colab_type": "code",
    "executionInfo": {
     "elapsed": 1668,
     "status": "ok",
     "timestamp": 1597671624442,
     "user": {
      "displayName": "Giorgio Pilotti",
      "photoUrl": "",
      "userId": "14543625938899552918"
     },
     "user_tz": -120
    },
    "id": "JADO8-znuuw6"
   },
   "outputs": [],
   "source": [
    "X = np.load('../data/' + city + '/volumes/X.npy')\n",
    "X = X.reshape((len(X), X.shape[1] * X.shape[2], 16, 8 , 1))\n",
    "\n",
    "y = np.load('../data/' + city + '/volumes/y.npy')\n",
    "y = y.reshape((len(y), 2, 16, 8))"
   ]
  },
  {
   "cell_type": "markdown",
   "metadata": {
    "colab_type": "text",
    "id": "hpyyNHXLFLpu"
   },
   "source": [
    "# **Model**"
   ]
  },
  {
   "cell_type": "code",
   "execution_count": null,
   "metadata": {
    "colab": {
     "base_uri": "https://localhost:8080/",
     "height": 85
    },
    "colab_type": "code",
    "executionInfo": {
     "elapsed": 95044,
     "status": "ok",
     "timestamp": 1597671781060,
     "user": {
      "displayName": "Giorgio Pilotti",
      "photoUrl": "",
      "userId": "14543625938899552918"
     },
     "user_tz": -120
    },
    "id": "aoRn7bih5tmy",
    "outputId": "8258c58a-23f4-4edc-8902-96ae3aa01746"
   },
   "outputs": [],
   "source": [
    "rmse, predictions, model = CLoST3D('NY', X,  y, external_data = ext, test_days = 10, \n",
    "                                   lr = 0.001, conv_filt = 64,kernel_sz = (2,3,3),\n",
    "                                   normalize = True, epochs = 150, lstm = 350,\n",
    "                                   lstm_number = 2, add_external_info = True)"
   ]
  }
 ],
 "metadata": {
  "accelerator": "GPU",
  "colab": {
   "collapsed_sections": [],
   "machine_shape": "hm",
   "name": "3 - Model - NY.ipynb",
   "provenance": []
  },
  "kernelspec": {
   "display_name": "Python 3",
   "language": "python",
   "name": "python3"
  },
  "language_info": {
   "codemirror_mode": {
    "name": "ipython",
    "version": 3
   },
   "file_extension": ".py",
   "mimetype": "text/x-python",
   "name": "python",
   "nbconvert_exporter": "python",
   "pygments_lexer": "ipython3",
   "version": "3.6.9"
  }
 },
 "nbformat": 4,
 "nbformat_minor": 1
}
